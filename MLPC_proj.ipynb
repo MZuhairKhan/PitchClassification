{
 "cells": [
  {
   "cell_type": "code",
   "execution_count": 111,
   "metadata": {},
   "outputs": [],
   "source": [
    "import pybaseball\n",
    "import numpy as np # library for numerical computations (vectors, matrices, tensors)\n",
    "import numpy.testing as np_testing # for tests\n",
    "import matplotlib.pyplot as plt # library providing tools for plotting data\n",
    "import pandas as pd\n",
    "import seaborn as sns\n",
    "from sklearn.linear_model import LinearRegression\n",
    "from sklearn.cluster import KMeans # library for K-Means clustering\n",
    "from sklearn import metrics # library providing score functions, performance metrics and pairwise metrics and distance computations\n",
    "from sklearn.metrics import mean_squared_error, confusion_matrix as calculate_confusion_matrix\n",
    "from sklearn.preprocessing import StandardScaler\n",
    "from mpl_toolkits.mplot3d import Axes3D # library for 3D axes object\n",
    "from seaborn import heatmap\n",
    "from sklearn.model_selection import train_test_split\n",
    "from sklearn.neighbors import KNeighborsClassifier\n",
    "from sklearn.metrics import accuracy_score, confusion_matrix\n",
    "from sklearn.model_selection import cross_val_score\n",
    "from sklearn.neural_network import MLPClassifier\n",
    "from sklearn.model_selection import RandomizedSearchCV\n",
    "from sklearn.metrics import classification_report"
   ]
  },
  {
   "cell_type": "code",
   "execution_count": 112,
   "metadata": {},
   "outputs": [
    {
     "name": "stdout",
     "output_type": "stream",
     "text": [
      "This is a large query, it may take a moment to complete\n"
     ]
    },
    {
     "name": "stderr",
     "output_type": "stream",
     "text": [
      "100%|██████████| 183/183 [00:30<00:00,  5.94it/s]\n"
     ]
    }
   ],
   "source": [
    "data = pybaseball.statcast(start_dt=\"2022-05-07\", end_dt=\"2022-11-05\")"
   ]
  },
  {
   "cell_type": "code",
   "execution_count": 113,
   "metadata": {},
   "outputs": [],
   "source": [
    "data_small = data.loc[data['game_type'] == 'R', ['pitch_type', 'release_speed', 'release_spin_rate', 'spin_axis', 'pfx_x', 'pfx_z']].reset_index(False)\n",
    "data_small = data_small.drop(columns=[\"index\"])\n",
    "data_small = data_small.dropna()"
   ]
  },
  {
   "cell_type": "code",
   "execution_count": 114,
   "metadata": {},
   "outputs": [],
   "source": [
    "def remove_rows_by_label(dataframe, label_to_remove):\n",
    "    # Use boolean indexing to filter rows based on the label to remove\n",
    "    filtered_df = dataframe[dataframe['pitch_type'] != label_to_remove]\n",
    "    return filtered_df\n",
    "def balance_dataframe(df, label_column):\n",
    "    # Determine the minimum number of datapoints among labels\n",
    "    min_count = df[label_column].value_counts().min()\n",
    "    \n",
    "    # Create an empty DataFrame to store balanced data\n",
    "    balanced_df = pd.DataFrame(columns=df.columns)\n",
    "    \n",
    "    # Undersample each label to match the minimum count\n",
    "    for label in df[label_column].unique():\n",
    "        label_data = df[df[label_column] == label]\n",
    "        label_data = label_data.sample(min_count, random_state=42)\n",
    "        balanced_df = pd.concat([balanced_df, label_data], ignore_index=True)\n",
    "    \n",
    "    return balanced_df\n",
    "def z_score_normalize_dataframe(df, label_column, value_column):\n",
    "    # Group the DataFrame by the label column\n",
    "    grouped = df.groupby(label_column)\n",
    "    \n",
    "    # Create an empty DataFrame to store the z-score normalized data\n",
    "    normalized_df = pd.DataFrame(columns=[label_column, value_column])\n",
    "    \n",
    "    # Initialize the StandardScaler\n",
    "    scaler = StandardScaler()\n",
    "    \n",
    "    # Iterate through each group, normalize the values, and concatenate to the result\n",
    "    for label, group in grouped:\n",
    "        group[value_column] = scaler.fit_transform(group[[value_column]])\n",
    "        normalized_df = pd.concat([normalized_df, group], ignore_index=True)\n",
    "    \n",
    "    return normalized_df\n",
    "def count_data_points_per_label(dataframe):\n",
    "    # Use the 'groupby' function to group by the 'Label' column and count the occurrences\n",
    "    label_counts = dataframe['pitch_type'].value_counts().reset_index()\n",
    "    label_counts.columns = ['pitch_type', 'Count']\n",
    "    \n",
    "    # Sort the result by counts in descending order\n",
    "    label_counts = label_counts.sort_values(by='Count', ascending=False)\n",
    "    \n",
    "    # Convert the result to a list of dictionaries\n",
    "    label_counts_list = label_counts.to_dict('records')\n",
    "    \n",
    "    return label_counts_list"
   ]
  },
  {
   "cell_type": "code",
   "execution_count": 115,
   "metadata": {},
   "outputs": [
    {
     "name": "stdout",
     "output_type": "stream",
     "text": [
      "       pitch_type release_speed release_spin_rate spin_axis     pfx_x  \\\n",
      "0              CH      0.134963         -0.280901  0.530367 -0.464673   \n",
      "1              CH     -0.010955          0.870027  0.513315 -0.670695   \n",
      "2              CH     -1.382588         -1.332896  0.428055 -0.773705   \n",
      "3              CH     -0.331976          0.170896  0.734992 -0.808042   \n",
      "4              CH      0.922923          0.220363  1.195397 -0.747952   \n",
      "...           ...           ...               ...       ...       ...   \n",
      "103931         ST     -0.725252         -2.175252  1.950297 -1.534262   \n",
      "103932         ST      1.502899          1.681001 -0.372774  0.225529   \n",
      "103933         ST      0.166009          0.557044  1.809504 -1.382402   \n",
      "103934         ST      0.420655         -1.535678  -0.47334   0.35059   \n",
      "103935         ST      0.166009          1.981976  1.779335 -1.918379   \n",
      "\n",
      "           pfx_z  \n",
      "0      -0.657824  \n",
      "1       0.664356  \n",
      "2       0.766062  \n",
      "3       0.842342  \n",
      "4      -1.776591  \n",
      "...          ...  \n",
      "103931 -0.768263  \n",
      "103932  0.687603  \n",
      "103933  1.124363  \n",
      "103934  0.920542  \n",
      "103935 -1.030319  \n",
      "\n",
      "[103936 rows x 6 columns]\n"
     ]
    }
   ],
   "source": [
    "remove_types = ['KN', 'PO', 'CS', 'EP', 'FA', 'SV', 'FS']\n",
    "filtered_data_small = data_small\n",
    "for label in remove_types:\n",
    "    filtered_data_small = remove_rows_by_label(filtered_data_small, label)\n",
    "balanced_data = balance_dataframe(filtered_data_small, 'pitch_type')\n",
    "#print(count_data_points_per_label(balanced_data))\n",
    "features = ['pfx_z', 'pfx_x', 'spin_axis', 'release_spin_rate','release_speed']\n",
    "normalized_data = balanced_data\n",
    "for value in features:\n",
    "    normalized_data = z_score_normalize_dataframe(normalized_data, 'pitch_type', value)\n",
    "print(normalized_data)"
   ]
  },
  {
   "cell_type": "code",
   "execution_count": 116,
   "metadata": {},
   "outputs": [],
   "source": [
    "validation_size = 0.30  # 30% in total for validation (15%) and testing (15%)\n",
    "testing_size = 0.70  # 70% for testing\n",
    "validation_data, training_data = train_test_split(normalized_data, test_size=testing_size, random_state=42)\n",
    "validation_data, testing_data =  train_test_split(validation_data, test_size=0.5, random_state=42)"
   ]
  },
  {
   "cell_type": "code",
   "execution_count": 117,
   "metadata": {},
   "outputs": [],
   "source": [
    "y_val = validation_data[\"pitch_type\"]\n",
    "X_val = validation_data.drop(columns=[\"pitch_type\"])\n",
    "y = training_data[\"pitch_type\"]\n",
    "X = training_data.drop(columns=[\"pitch_type\"])\n",
    "y_test = testing_data[\"pitch_type\"]\n",
    "X_test = testing_data.drop(columns=[\"pitch_type\"])\n",
    "X_val1 = X_val.to_numpy()\n",
    "y_val1 = y_val.to_numpy()\n",
    "X1 = X.to_numpy()\n",
    "y1 = y.to_numpy()\n",
    "X_test1 = X_test.to_numpy()\n",
    "y_test1 = y_test.to_numpy()"
   ]
  },
  {
   "cell_type": "code",
   "execution_count": 118,
   "metadata": {},
   "outputs": [
    {
     "data": {
      "text/plain": [
       "\"hidden_layer_sizes = [(5,), (25,), (5, 5), (25, 25)]\\nparam_grid = {'hidden_layer_sizes': hidden_layer_sizes}\\nmlp = MLPClassifier(max_iter=1000)\\nrandomized_cv = RandomizedSearchCV(mlp, param_grid, n_iter=10, scoring='accuracy')\\nrandomized_cv.fit(X_val1, y_val1)\\nprint(randomized_cv.best_params_)\""
      ]
     },
     "execution_count": 118,
     "metadata": {},
     "output_type": "execute_result"
    }
   ],
   "source": [
    "'''hidden_layer_sizes = [(5,), (25,), (5, 5), (25, 25)]\n",
    "param_grid = {'hidden_layer_sizes': hidden_layer_sizes}\n",
    "mlp = MLPClassifier(max_iter=1000)\n",
    "randomized_cv = RandomizedSearchCV(mlp, param_grid, n_iter=10, scoring='accuracy')\n",
    "randomized_cv.fit(X_val1, y_val1)\n",
    "print(randomized_cv.best_params_)'''"
   ]
  },
  {
   "cell_type": "code",
   "execution_count": 119,
   "metadata": {},
   "outputs": [
    {
     "name": "stderr",
     "output_type": "stream",
     "text": [
      "c:\\ProgramData\\Anaconda3\\lib\\site-packages\\sklearn\\neural_network\\_multilayer_perceptron.py:692: ConvergenceWarning: Stochastic Optimizer: Maximum iterations (200) reached and the optimization hasn't converged yet.\n",
      "  warnings.warn(\n"
     ]
    }
   ],
   "source": [
    "# Initialize the MLP classifier\n",
    "mlp = MLPClassifier(hidden_layer_sizes=(50,50,50,50), activation='relu', solver='adam', random_state=42)\n",
    "\n",
    "# Fit the classifier to the training data\n",
    "mlp.fit(X1, y1)\n",
    "\n",
    "# Make predictions on the test data\n",
    "y_test_pred = mlp.predict(X_test1)\n"
   ]
  },
  {
   "cell_type": "code",
   "execution_count": 120,
   "metadata": {},
   "outputs": [
    {
     "name": "stdout",
     "output_type": "stream",
     "text": [
      "              precision    recall  f1-score   support\n",
      "\n",
      "          CH       0.62      0.68      0.65      1970\n",
      "          CU       0.74      0.81      0.78      1958\n",
      "          FC       0.73      0.61      0.66      1894\n",
      "          FF       0.58      0.46      0.51      1992\n",
      "          KC       0.81      0.88      0.84      1931\n",
      "          SI       0.60      0.68      0.64      1938\n",
      "          SL       0.62      0.55      0.59      1993\n",
      "          ST       0.73      0.79      0.76      1914\n",
      "\n",
      "    accuracy                           0.68     15590\n",
      "   macro avg       0.68      0.68      0.68     15590\n",
      "weighted avg       0.68      0.68      0.68     15590\n",
      "\n"
     ]
    }
   ],
   "source": [
    "# Evaluate the model's performance\n",
    "report = classification_report(y_test1, y_test_pred)\n",
    "print(report)"
   ]
  },
  {
   "cell_type": "code",
   "execution_count": 121,
   "metadata": {},
   "outputs": [
    {
     "name": "stdout",
     "output_type": "stream",
     "text": [
      "Accuracy: 0.6810134701731879\n"
     ]
    },
    {
     "data": {
      "image/png": "[encoded data removed]",
      "text/plain": [
       "<Figure size 432x288 with 2 Axes>"
      ]
     },
     "metadata": {
      "needs_background": "light"
     },
     "output_type": "display_data"
    }
   ],
   "source": [
    "acc = accuracy_score(y_test_pred,y_test1)\n",
    "confmat = confusion_matrix(y_test1, y_test_pred)\n",
    "\n",
    "print(\"Accuracy:\", acc)\n",
    "# plot the confusion matrix\n",
    "ax = plt.subplot()\n",
    "sns.heatmap(confmat,annot=True, fmt='g', ax=ax)\n",
    "ax.set_xlabel('Predicted labels',fontsize=15)\n",
    "ax.set_ylabel('True labels',fontsize=15)\n",
    "plt.show()"
   ]
  }
 ],
 "metadata": {
  "kernelspec": {
   "display_name": "base",
   "language": "python",
   "name": "python3"
  },
  "language_info": {
   "codemirror_mode": {
    "name": "ipython",
    "version": 3
   },
   "file_extension": ".py",
   "mimetype": "text/x-python",
   "name": "python",
   "nbconvert_exporter": "python",
   "pygments_lexer": "ipython3",
   "version": "3.9.12"
  }
 },
 "nbformat": 4,
 "nbformat_minor": 2
}
