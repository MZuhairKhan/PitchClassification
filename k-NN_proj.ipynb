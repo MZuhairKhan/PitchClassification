{
 "cells": [
  {
   "cell_type": "code",
   "execution_count": 1,
   "metadata": {},
   "outputs": [
    {
     "name": "stdout",
     "output_type": "stream",
     "text": [
      "Defaulting to user installation because normal site-packages is not writeable\n",
      "Requirement already satisfied: pybaseball in c:\\users\\nikok\\appdata\\roaming\\python\\python39\\site-packages (2.2.7)\n",
      "Requirement already satisfied: numpy>=1.13.0 in c:\\programdata\\anaconda3\\lib\\site-packages (from pybaseball) (1.21.5)\n",
      "Requirement already satisfied: beautifulsoup4>=4.4.0 in c:\\programdata\\anaconda3\\lib\\site-packages (from pybaseball) (4.11.1)\n",
      "Requirement already satisfied: pygithub>=1.51 in c:\\users\\nikok\\appdata\\roaming\\python\\python39\\site-packages (from pybaseball) (2.1.1)\n",
      "Requirement already satisfied: scipy>=1.4.0 in c:\\programdata\\anaconda3\\lib\\site-packages (from pybaseball) (1.7.3)\n",
      "Requirement already satisfied: lxml>=4.2.1 in c:\\programdata\\anaconda3\\lib\\site-packages (from pybaseball) (4.8.0)\n",
      "Requirement already satisfied: requests>=2.18.1 in c:\\programdata\\anaconda3\\lib\\site-packages (from pybaseball) (2.27.1)\n",
      "Requirement already satisfied: matplotlib>=2.0.0 in c:\\programdata\\anaconda3\\lib\\site-packages (from pybaseball) (3.5.1)\n",
      "Requirement already satisfied: tqdm>=4.50.0 in c:\\programdata\\anaconda3\\lib\\site-packages (from pybaseball) (4.64.0)\n",
      "Requirement already satisfied: attrs>=20.3.0 in c:\\users\\nikok\\appdata\\roaming\\python\\python39\\site-packages (from pybaseball) (20.3.0)\n"
     ]
    },
    {
     "name": "stderr",
     "output_type": "stream",
     "text": [
      "\n",
      "[notice] A new release of pip available: 22.2.2 -> 23.2.1\n",
      "[notice] To update, run: python.exe -m pip install --upgrade pip\n"
     ]
    },
    {
     "name": "stdout",
     "output_type": "stream",
     "text": [
      "Requirement already satisfied: pandas>=1.0.3 in c:\\programdata\\anaconda3\\lib\\site-packages (from pybaseball) (1.4.2)\n",
      "Requirement already satisfied: pyarrow>=1.0.1 in c:\\users\\nikok\\appdata\\roaming\\python\\python39\\site-packages (from pybaseball) (13.0.0)\n",
      "Requirement already satisfied: soupsieve>1.2 in c:\\programdata\\anaconda3\\lib\\site-packages (from beautifulsoup4>=4.4.0->pybaseball) (2.3.1)\n",
      "Requirement already satisfied: python-dateutil>=2.7 in c:\\programdata\\anaconda3\\lib\\site-packages (from matplotlib>=2.0.0->pybaseball) (2.8.2)\n",
      "Requirement already satisfied: pyparsing>=2.2.1 in c:\\programdata\\anaconda3\\lib\\site-packages (from matplotlib>=2.0.0->pybaseball) (3.0.4)\n",
      "Requirement already satisfied: pillow>=6.2.0 in c:\\programdata\\anaconda3\\lib\\site-packages (from matplotlib>=2.0.0->pybaseball) (9.0.1)\n",
      "Requirement already satisfied: packaging>=20.0 in c:\\programdata\\anaconda3\\lib\\site-packages (from matplotlib>=2.0.0->pybaseball) (21.3)\n",
      "Requirement already satisfied: kiwisolver>=1.0.1 in c:\\programdata\\anaconda3\\lib\\site-packages (from matplotlib>=2.0.0->pybaseball) (1.3.2)\n",
      "Requirement already satisfied: fonttools>=4.22.0 in c:\\programdata\\anaconda3\\lib\\site-packages (from matplotlib>=2.0.0->pybaseball) (4.25.0)\n",
      "Requirement already satisfied: cycler>=0.10 in c:\\programdata\\anaconda3\\lib\\site-packages (from matplotlib>=2.0.0->pybaseball) (0.11.0)\n",
      "Requirement already satisfied: pytz>=2020.1 in c:\\programdata\\anaconda3\\lib\\site-packages (from pandas>=1.0.3->pybaseball) (2021.3)\n",
      "Requirement already satisfied: pynacl>=1.4.0 in c:\\programdata\\anaconda3\\lib\\site-packages (from pygithub>=1.51->pybaseball) (1.4.0)\n",
      "Requirement already satisfied: urllib3>=1.26.0 in c:\\programdata\\anaconda3\\lib\\site-packages (from pygithub>=1.51->pybaseball) (1.26.9)\n",
      "Requirement already satisfied: typing-extensions>=4.0.0 in c:\\programdata\\anaconda3\\lib\\site-packages (from pygithub>=1.51->pybaseball) (4.1.1)\n",
      "Requirement already satisfied: Deprecated in c:\\users\\nikok\\appdata\\roaming\\python\\python39\\site-packages (from pygithub>=1.51->pybaseball) (1.2.14)\n",
      "Requirement already satisfied: pyjwt[crypto]>=2.4.0 in c:\\users\\nikok\\appdata\\roaming\\python\\python39\\site-packages (from pygithub>=1.51->pybaseball) (2.4.0)\n",
      "Requirement already satisfied: certifi>=2017.4.17 in c:\\programdata\\anaconda3\\lib\\site-packages (from requests>=2.18.1->pybaseball) (2021.10.8)\n",
      "Requirement already satisfied: idna<4,>=2.5 in c:\\programdata\\anaconda3\\lib\\site-packages (from requests>=2.18.1->pybaseball) (3.3)\n",
      "Requirement already satisfied: charset-normalizer~=2.0.0 in c:\\programdata\\anaconda3\\lib\\site-packages (from requests>=2.18.1->pybaseball) (2.0.4)\n",
      "Requirement already satisfied: colorama in c:\\programdata\\anaconda3\\lib\\site-packages (from tqdm>=4.50.0->pybaseball) (0.4.4)\n",
      "Requirement already satisfied: cryptography>=3.3.1 in c:\\programdata\\anaconda3\\lib\\site-packages (from pyjwt[crypto]>=2.4.0->pygithub>=1.51->pybaseball) (3.4.8)\n",
      "Requirement already satisfied: cffi>=1.4.1 in c:\\programdata\\anaconda3\\lib\\site-packages (from pynacl>=1.4.0->pygithub>=1.51->pybaseball) (1.15.0)\n",
      "Requirement already satisfied: six in c:\\programdata\\anaconda3\\lib\\site-packages (from pynacl>=1.4.0->pygithub>=1.51->pybaseball) (1.16.0)\n",
      "Requirement already satisfied: wrapt<2,>=1.10 in c:\\programdata\\anaconda3\\lib\\site-packages (from Deprecated->pygithub>=1.51->pybaseball) (1.12.1)\n",
      "Requirement already satisfied: pycparser in c:\\programdata\\anaconda3\\lib\\site-packages (from cffi>=1.4.1->pynacl>=1.4.0->pygithub>=1.51->pybaseball) (2.21)\n"
     ]
    }
   ],
   "source": [
    "! pip install pybaseball"
   ]
  },
  {
   "cell_type": "code",
   "execution_count": 2,
   "metadata": {},
   "outputs": [],
   "source": [
    "import pybaseball\n",
    "import numpy as np # library for numerical computations (vectors, matrices, tensors)\n",
    "import numpy.testing as np_testing # for tests\n",
    "import matplotlib.pyplot as plt # library providing tools for plotting data\n",
    "import pandas as pd\n",
    "import seaborn as sns\n",
    "from sklearn.linear_model import LinearRegression\n",
    "from sklearn.cluster import KMeans # library for K-Means clustering\n",
    "from sklearn import metrics # library providing score functions, performance metrics and pairwise metrics and distance computations\n",
    "from sklearn.metrics import mean_squared_error, confusion_matrix as calculate_confusion_matrix\n",
    "from sklearn.preprocessing import StandardScaler\n",
    "from mpl_toolkits.mplot3d import Axes3D # library for 3D axes object\n",
    "from seaborn import heatmap\n",
    "from sklearn.model_selection import train_test_split\n",
    "from sklearn.neighbors import KNeighborsClassifier\n",
    "from sklearn.metrics import accuracy_score, confusion_matrix\n",
    "from sklearn.model_selection import cross_val_score"
   ]
  },
  {
   "cell_type": "code",
   "execution_count": 3,
   "metadata": {},
   "outputs": [],
   "source": [
    "#types = pybaseball.statcast(start_dt=\"2022-05-07\", end_dt=\"2022-11-05\").columns"
   ]
  },
  {
   "cell_type": "code",
   "execution_count": 4,
   "metadata": {},
   "outputs": [],
   "source": [
    "#print(types)"
   ]
  },
  {
   "attachments": {},
   "cell_type": "markdown",
   "metadata": {},
   "source": [
    "# what the data looks like"
   ]
  },
  {
   "cell_type": "code",
   "execution_count": 5,
   "metadata": {},
   "outputs": [
    {
     "name": "stdout",
     "output_type": "stream",
     "text": [
      "This is a large query, it may take a moment to complete\n"
     ]
    },
    {
     "name": "stderr",
     "output_type": "stream",
     "text": [
      "100%|██████████| 183/183 [00:18<00:00,  9.89it/s]\n"
     ]
    }
   ],
   "source": [
    "#pybaseball.cache.enable()\n",
    "data = pybaseball.statcast(start_dt=\"2022-05-07\", end_dt=\"2022-11-05\")"
   ]
  },
  {
   "cell_type": "code",
   "execution_count": 6,
   "metadata": {},
   "outputs": [],
   "source": [
    "data_small = data.loc[data['game_type'] == 'R', ['pitch_type', 'release_speed', 'release_spin_rate', 'spin_axis', 'pfx_x', 'pfx_z']].reset_index(False)\n"
   ]
  },
  {
   "cell_type": "code",
   "execution_count": 7,
   "metadata": {},
   "outputs": [],
   "source": [
    "data_small = data_small.drop(columns=[\"index\"])"
   ]
  },
  {
   "cell_type": "code",
   "execution_count": 8,
   "metadata": {},
   "outputs": [],
   "source": [
    "data_small = data_small.dropna()"
   ]
  },
  {
   "cell_type": "code",
   "execution_count": 9,
   "metadata": {},
   "outputs": [
    {
     "name": "stdout",
     "output_type": "stream",
     "text": [
      "[{'pitch_type': 'FF', 'Count': 196170}, {'pitch_type': 'SL', 'Count': 104795}, {'pitch_type': 'SI', 'Count': 92786}, {'pitch_type': 'CH', 'Count': 66466}, {'pitch_type': 'CU', 'Count': 46505}, {'pitch_type': 'FC', 'Count': 43246}, {'pitch_type': 'ST', 'Count': 18002}, {'pitch_type': 'KC', 'Count': 12992}, {'pitch_type': 'FS', 'Count': 9161}, {'pitch_type': 'SV', 'Count': 2065}, {'pitch_type': 'FA', 'Count': 1118}, {'pitch_type': 'EP', 'Count': 506}, {'pitch_type': 'CS', 'Count': 62}, {'pitch_type': 'PO', 'Count': 35}, {'pitch_type': 'KN', 'Count': 19}]\n"
     ]
    }
   ],
   "source": [
    "def count_data_points_per_label(dataframe):\n",
    "    # Use the 'groupby' function to group by the 'Label' column and count the occurrences\n",
    "    label_counts = dataframe['pitch_type'].value_counts().reset_index()\n",
    "    label_counts.columns = ['pitch_type', 'Count']\n",
    "    \n",
    "    # Sort the result by counts in descending order\n",
    "    label_counts = label_counts.sort_values(by='Count', ascending=False)\n",
    "    \n",
    "    # Convert the result to a list of dictionaries\n",
    "    label_counts_list = label_counts.to_dict('records')\n",
    "    \n",
    "    return label_counts_list\n",
    "\n",
    "label_counts_list = count_data_points_per_label(data_small)\n",
    "print(label_counts_list)"
   ]
  },
  {
   "cell_type": "code",
   "execution_count": 10,
   "metadata": {},
   "outputs": [
    {
     "name": "stdout",
     "output_type": "stream",
     "text": [
      "[{'pitch_type': 'FF', 'Count': 196170}, {'pitch_type': 'SL', 'Count': 104795}, {'pitch_type': 'SI', 'Count': 92786}, {'pitch_type': 'CH', 'Count': 66466}, {'pitch_type': 'CU', 'Count': 46505}, {'pitch_type': 'FC', 'Count': 43246}, {'pitch_type': 'ST', 'Count': 18002}, {'pitch_type': 'KC', 'Count': 12992}, {'pitch_type': 'FS', 'Count': 9161}]\n"
     ]
    }
   ],
   "source": [
    "def remove_rows_by_label(dataframe, label_to_remove):\n",
    "    # Use boolean indexing to filter rows based on the label to remove\n",
    "    filtered_df = dataframe[dataframe['pitch_type'] != label_to_remove]\n",
    "    return filtered_df\n",
    "\n",
    "remove_types = ['KN', 'PO', 'CS', 'EP', 'FA', 'SV']\n",
    "filtered_data_small = data_small\n",
    "for label in remove_types:\n",
    "    filtered_data_small = remove_rows_by_label(filtered_data_small, label)\n",
    "print(count_data_points_per_label(filtered_data_small))"
   ]
  },
  {
   "cell_type": "code",
   "execution_count": 11,
   "metadata": {},
   "outputs": [],
   "source": [
    "validation_size = 0.20  # 20% for validation\n",
    "testing_size = 0.80  # 80% for testing"
   ]
  },
  {
   "cell_type": "code",
   "execution_count": 12,
   "metadata": {},
   "outputs": [],
   "source": [
    "validation_data, training_data = train_test_split(filtered_data_small, test_size=testing_size, random_state=42)"
   ]
  },
  {
   "cell_type": "code",
   "execution_count": 13,
   "metadata": {},
   "outputs": [],
   "source": [
    "validation_data, testing_data =  train_test_split(validation_data, test_size=0.5, random_state=42)"
   ]
  },
  {
   "cell_type": "code",
   "execution_count": 14,
   "metadata": {},
   "outputs": [],
   "source": [
    "y = training_data[\"pitch_type\"]\n",
    "X = training_data.drop(columns=[\"pitch_type\"])\n",
    "y_test = testing_data[\"pitch_type\"]\n",
    "X_test = testing_data.drop(columns=[\"pitch_type\"])\n",
    "y_val = validation_data[\"pitch_type\"]\n",
    "X_val = validation_data.drop(columns=[\"pitch_type\"])"
   ]
  },
  {
   "cell_type": "code",
   "execution_count": 15,
   "metadata": {},
   "outputs": [],
   "source": [
    "X1 = X.to_numpy()\n",
    "y1 = y.to_numpy()\n",
    "X_test1 = X_test.to_numpy()\n",
    "y_test1 = y_test.to_numpy()\n",
    "X_val1 = X_val.to_numpy()\n",
    "y_val1 = y_val.to_numpy()"
   ]
  },
  {
   "cell_type": "code",
   "execution_count": 16,
   "metadata": {},
   "outputs": [
    {
     "name": "stdout",
     "output_type": "stream",
     "text": [
      "['FF', 'SL', 'CH', 'KC', 'CU', 'FC', 'SI', 'ST', 'FS']\n",
      "9\n"
     ]
    }
   ],
   "source": [
    "alltypes = []\n",
    "n = 0\n",
    "for i in y1:\n",
    "    if (i not in alltypes):\n",
    "        #print(i)\n",
    "        if(i ==None):\n",
    "            print(n)\n",
    "        alltypes.append(i)\n",
    "    n = n +1 \n",
    "print(alltypes)\n",
    "print(len(alltypes))\n"
   ]
  },
  {
   "cell_type": "code",
   "execution_count": 18,
   "metadata": {},
   "outputs": [],
   "source": [
    "#k_values = [1, 3, 5, 7, 9, 11]\n",
    "\n",
    "# Iterate over K values and evaluate the model\n",
    "#for k in k_values:\n",
    "#    knn = KNeighborsClassifier(n_neighbors=k)\n",
    "#    scores = cross_val_score(knn, X1, y1, cv=5, scoring='accuracy')\n",
    "#    mean_score = scores.mean()\n",
    "#    print(f\"K={k}: Mean Accuracy = {mean_score}\")"
   ]
  },
  {
   "cell_type": "code",
   "execution_count": 19,
   "metadata": {},
   "outputs": [
    {
     "data": {
      "image/png": "[encoded data removed]",
      "text/plain": [
       "<Figure size 432x288 with 1 Axes>"
      ]
     },
     "metadata": {
      "needs_background": "light"
     },
     "output_type": "display_data"
    }
   ],
   "source": [
    "k_values = [1, 3, 5, 7, 9, 11, 13, 15, 17, 19, 21]\n",
    "mean_scores = []\n",
    "\n",
    "for k in k_values:\n",
    "    knn = KNeighborsClassifier(n_neighbors=k)\n",
    "    scores = cross_val_score(knn, X1, y1, cv=5, scoring='accuracy')\n",
    "    mean_scores.append(scores.mean())\n",
    "\n",
    "plt.plot(k_values, mean_scores)\n",
    "plt.xlabel('K (Number of Neighbors)')\n",
    "plt.ylabel('Mean Accuracy')\n",
    "plt.title('KNN: Mean Accuracy vs. K')\n",
    "plt.show()"
   ]
  },
  {
   "attachments": {},
   "cell_type": "markdown",
   "metadata": {},
   "source": [
    "Elbow test shows would indicate k = 5 or k = 7 would be good choices"
   ]
  },
  {
   "cell_type": "code",
   "execution_count": 28,
   "metadata": {},
   "outputs": [
    {
     "data": {
      "text/plain": [
       "KNeighborsClassifier(n_neighbors=7)"
      ]
     },
     "execution_count": 28,
     "metadata": {},
     "output_type": "execute_result"
    }
   ],
   "source": [
    "neigh = KNeighborsClassifier(n_neighbors=7)\n",
    "neigh.fit(X1,y1)"
   ]
  },
  {
   "cell_type": "code",
   "execution_count": 20,
   "metadata": {},
   "outputs": [],
   "source": [
    "#kmeans = KMeans(random_state = 0, n_clusters = 15)\n",
    "#kmeans.fit(X1,y1)"
   ]
  },
  {
   "cell_type": "code",
   "execution_count": 29,
   "metadata": {},
   "outputs": [],
   "source": [
    "y_test_pred = neigh.predict(X_test1)"
   ]
  },
  {
   "cell_type": "code",
   "execution_count": 30,
   "metadata": {},
   "outputs": [],
   "source": [
    "acc = accuracy_score(y_test_pred,y_test1)\n",
    "confmat = confusion_matrix(y_test1, y_test_pred)"
   ]
  },
  {
   "cell_type": "code",
   "execution_count": 27,
   "metadata": {},
   "outputs": [
    {
     "name": "stdout",
     "output_type": "stream",
     "text": [
      "Accuracy: 0.6864197112451704\n"
     ]
    },
    {
     "data": {
      "image/png": "[encoded data removed]",
      "text/plain": [
       "<Figure size 432x288 with 2 Axes>"
      ]
     },
     "metadata": {
      "needs_background": "light"
     },
     "output_type": "display_data"
    }
   ],
   "source": [
    "print(\"Accuracy:\", acc)\n",
    "\n",
    "# plot the confusion matrix\n",
    "ax = plt.subplot()\n",
    "sns.heatmap(confmat,annot=True, fmt='g', ax=ax)\n",
    "ax.set_xlabel('Predicted labels',fontsize=15)\n",
    "ax.set_ylabel('True labels',fontsize=15)\n",
    "plt.show()"
   ]
  }
 ],
 "metadata": {
  "kernelspec": {
   "display_name": "base",
   "language": "python",
   "name": "python3"
  },
  "language_info": {
   "codemirror_mode": {
    "name": "ipython",
    "version": 3
   },
   "file_extension": ".py",
   "mimetype": "text/x-python",
   "name": "python",
   "nbconvert_exporter": "python",
   "pygments_lexer": "ipython3",
   "version": "3.9.12"
  },
  "orig_nbformat": 4
 },
 "nbformat": 4,
 "nbformat_minor": 2
}
